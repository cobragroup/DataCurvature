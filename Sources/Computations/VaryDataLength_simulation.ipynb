{
 "cells": [
  {
   "cell_type": "code",
   "execution_count": 1,
   "metadata": {},
   "outputs": [],
   "source": [
    "%matplotlib inline\n",
    "import numpy as np\n",
    "import matplotlib.pyplot as plt\n",
    "\n",
    "import pickle\n",
    "from tqdm import tqdm\n",
    "\n",
    "import plotly.express as px\n",
    "import plotly.graph_objects as go\n",
    "\n",
    "%run ../functions.ipynb"
   ]
  },
  {
   "cell_type": "markdown",
   "metadata": {},
   "source": [
    "## Parameters"
   ]
  },
  {
   "cell_type": "code",
   "execution_count": 3,
   "metadata": {},
   "outputs": [],
   "source": [
    "fpath_out = '../../Service/BettiCurves/'\n",
    "\n",
    "minDim = 0\n",
    "maxDim = 3\n",
    "nNodes = 90 \n",
    "nTrials = 100\n",
    "\n",
    "shortLength = 400"
   ]
  },
  {
   "cell_type": "code",
   "execution_count": 4,
   "metadata": {},
   "outputs": [
    {
     "data": {
      "image/png": "[encoded data removed]",
      "text/plain": [
       "<Figure size 432x288 with 1 Axes>"
      ]
     },
     "metadata": {
      "needs_background": "light"
     },
     "output_type": "display_data"
    },
    {
     "name": "stdout",
     "output_type": "stream",
     "text": [
      "[    4     5     6     7     8     9    10    11    13    14    16    18\n",
      "    20    23    25    29    32    36    40    45    51    57    64    72\n",
      "    81    91   102   114   128   144   161   181   203   228   256   287\n",
      "   323   362   406   456   512   575   645   724   813   912  1024  1149\n",
      "  1290  1448  1625  1825  2048  2299  2580  2896  3251  3649  4096  4598\n",
      "  5161  5793  6502  7298  8192  9195 10321 11585 13004 14596 16384 18390\n",
      " 20643 23170 26008 29193]\n"
     ]
    }
   ],
   "source": [
    "lenSet = np.unique(np.array(np.round(2**np.arange(2,15,1/6)),dtype=int))\n",
    "plt.plot(lenSet)\n",
    "plt.show()\n",
    "print(lenSet)\n",
    "\n",
    "filename = fpath_out + 'lenSet'\n",
    "outfile = open(filename,'wb')\n",
    "pickle.dump(lenSet,outfile)\n",
    "outfile.close()"
   ]
  },
  {
   "cell_type": "markdown",
   "metadata": {},
   "source": [
    "## Random correlations"
   ]
  },
  {
   "cell_type": "code",
   "execution_count": 5,
   "metadata": {},
   "outputs": [
    {
     "name": "stderr",
     "output_type": "stream",
     "text": [
      "100%|██████████| 76/76 [00:01<00:00, 70.07it/s] \n",
      "Loading...: 100%|██████████| 76/76 [00:10<00:00,  7.36it/s]\n",
      "Loading...: 100%|██████████| 76/76 [00:40<00:00,  1.88it/s]\n"
     ]
    }
   ],
   "source": [
    "dataMark = 'RC'\n",
    "corMatr = np.zeros((lenSet.shape[0],nNodes,nNodes))\n",
    "with tqdm(total=lenSet.shape[0]) as pbar:\n",
    "    for i in range(lenSet.shape[0]):\n",
    "        pbar.update(1)\n",
    "        dataCurrent = np.random.normal(size=(lenSet[i]+1,nNodes,1))\n",
    "        corMatr[i] = connectivity(dataCurrent)\n",
    "\n",
    "ordMatrix = orderMatrix(-corMatr)\n",
    "N_betti_RC = computeBettiNumbers(ordMatrix,minDim,1)\n",
    "\n",
    "filename = fpath_out + 'N_betti_' + dataMark + '_diffLen'\n",
    "outfile = open(filename,'wb')\n",
    "pickle.dump(N_betti_RC,outfile)\n",
    "pickle.dump(lenSet,outfile)\n",
    "outfile.close()\n",
    "\n",
    "\n",
    "ordMatrix = orderMatrix(corMatr)\n",
    "N_betti_RC = computeBettiNumbers(ordMatrix,minDim,1)\n",
    "\n",
    "filename = fpath_out + 'N_betti_' + dataMark + '_diffLen_oppositeOrder'\n",
    "outfile = open(filename,'wb')\n",
    "pickle.dump(N_betti_RC,outfile)\n",
    "pickle.dump(lenSet,outfile)\n",
    "outfile.close()"
   ]
  },
  {
   "cell_type": "code",
   "execution_count": 6,
   "metadata": {},
   "outputs": [
    {
     "name": "stderr",
     "output_type": "stream",
     "text": [
      "100%|██████████| 100/100 [00:00<00:00, 294.23it/s]\n",
      "Loading...: 100%|██████████| 100/100 [19:00<00:00, 11.40s/it]\n",
      "Loading...: 100%|██████████| 100/100 [2:35:38<00:00, 93.38s/it]  \n"
     ]
    }
   ],
   "source": [
    "corMatr = np.zeros((nTrials,nNodes,nNodes))\n",
    "with tqdm(total=nTrials) as pbar:\n",
    "    for i in range(nTrials):\n",
    "        pbar.update(1)\n",
    "        dataCurrent = np.random.normal(size=(shortLength+1,nNodes,1))\n",
    "        corMatr[i] = connectivity(dataCurrent)\n",
    "\n",
    "ordMatrix = orderMatrix(-corMatr)\n",
    "N_betti_trials_RC = computeBettiNumbers(ordMatrix,minDim,maxDim)\n",
    "\n",
    "filename = fpath_out + 'N_betti_' + dataMark + '_moreTrials'\n",
    "outfile = open(filename,'wb')\n",
    "pickle.dump(N_betti_trials_RC,outfile)\n",
    "pickle.dump(lenSet,outfile)\n",
    "outfile.close()\n",
    "\n",
    "\n",
    "ordMatrix = orderMatrix(corMatr)\n",
    "N_betti_trials_RC = computeBettiNumbers(ordMatrix,minDim,maxDim)\n",
    "\n",
    "filename = fpath_out + 'N_betti_' + dataMark + '_moreTrials_oppositeOrder'\n",
    "outfile = open(filename,'wb')\n",
    "pickle.dump(N_betti_trials_RC,outfile)\n",
    "pickle.dump(lenSet,outfile)\n",
    "outfile.close()"
   ]
  },
  {
   "cell_type": "markdown",
   "metadata": {},
   "source": [
    "## Euclidean distance"
   ]
  },
  {
   "cell_type": "code",
   "execution_count": 8,
   "metadata": {},
   "outputs": [
    {
     "name": "stderr",
     "output_type": "stream",
     "text": [
      "100%|██████████| 76/76 [00:06<00:00, 11.37it/s]\n",
      "Loading...: 100%|██████████| 76/76 [00:06<00:00, 11.96it/s]\n",
      "Loading...: 100%|██████████| 76/76 [00:06<00:00, 11.49it/s]\n"
     ]
    }
   ],
   "source": [
    "dataMark = 'ED'\n",
    "corMatr = np.zeros((lenSet.shape[0],nNodes,nNodes))\n",
    "with tqdm(total=lenSet.shape[0]) as pbar:\n",
    "    for i in range(lenSet.shape[0]):\n",
    "        pbar.update(1)\n",
    "        corMatr[i] = euclDistMatrix_single(nNodes, lenSet[i])\n",
    "\n",
    "ordMatrix = orderMatrix(corMatr)    \n",
    "N_betti_ED = computeBettiNumbers(ordMatrix,minDim,1)\n",
    "\n",
    "filename = fpath_out + 'N_betti_' + dataMark + '_diffLen'\n",
    "outfile = open(filename,'wb')\n",
    "pickle.dump(N_betti_ED,outfile)\n",
    "pickle.dump(lenSet,outfile)\n",
    "outfile.close()\n",
    "\n",
    "\n",
    "\n",
    "ordMatrix = orderMatrix(-corMatr)    \n",
    "N_betti_ED = computeBettiNumbers(ordMatrix,minDim,1)\n",
    "\n",
    "filename = fpath_out + 'N_betti_' + dataMark + '_diffLen_oppositeOrder'\n",
    "outfile = open(filename,'wb')\n",
    "pickle.dump(N_betti_ED,outfile)\n",
    "pickle.dump(lenSet,outfile)\n",
    "outfile.close()"
   ]
  },
  {
   "cell_type": "code",
   "execution_count": 9,
   "metadata": {},
   "outputs": [
    {
     "name": "stderr",
     "output_type": "stream",
     "text": [
      "100%|██████████| 100/100 [00:05<00:00, 16.69it/s]\n",
      "Loading...: 100%|██████████| 100/100 [05:01<00:00,  3.01s/it]\n",
      "Loading...: 100%|██████████| 100/100 [05:09<00:00,  3.10s/it]\n"
     ]
    }
   ],
   "source": [
    "corMatr = np.zeros((nTrials,nNodes,nNodes))\n",
    "with tqdm(total=nTrials) as pbar:\n",
    "    for i in range(nTrials):\n",
    "        pbar.update(1)\n",
    "        corMatr[i] = euclDistMatrix_single(nNodes, shortLength)\n",
    "\n",
    "ordMatrix = orderMatrix(corMatr)    \n",
    "N_betti_trials_ED = computeBettiNumbers(ordMatrix,minDim,maxDim)\n",
    "\n",
    "filename = fpath_out + 'N_betti_' + dataMark + '_moreTrials'\n",
    "outfile = open(filename,'wb')\n",
    "pickle.dump(N_betti_trials_ED,outfile)\n",
    "outfile.close()\n",
    "\n",
    "\n",
    "\n",
    "ordMatrix = orderMatrix(-corMatr)    \n",
    "N_betti_trials_ED = computeBettiNumbers(ordMatrix,minDim,maxDim)\n",
    "\n",
    "filename = fpath_out + 'N_betti_' + dataMark + '_moreTrials_oppositeOrder'\n",
    "outfile = open(filename,'wb')\n",
    "pickle.dump(N_betti_trials_ED,outfile)\n",
    "outfile.close()"
   ]
  },
  {
   "cell_type": "markdown",
   "metadata": {},
   "source": [
    "## Spherical distance"
   ]
  },
  {
   "cell_type": "code",
   "execution_count": 10,
   "metadata": {},
   "outputs": [
    {
     "name": "stderr",
     "output_type": "stream",
     "text": [
      "100%|██████████| 76/76 [00:18<00:00,  4.15it/s]\n",
      "Loading...: 100%|██████████| 76/76 [00:09<00:00,  8.34it/s]\n",
      "Loading...: 100%|██████████| 76/76 [00:36<00:00,  2.05it/s]\n"
     ]
    }
   ],
   "source": [
    "dataMark = 'SD'\n",
    "corMatr = np.zeros((lenSet.shape[0],nNodes,nNodes))\n",
    "with tqdm(total=lenSet.shape[0]) as pbar:\n",
    "    for i in range(lenSet.shape[0]):\n",
    "        pbar.update(1)\n",
    "        corMatr[i] = spherDistMatrix_single(nNodes, lenSet[i])\n",
    "\n",
    "ordMatrix = orderMatrix(corMatr)    \n",
    "N_betti_SD = computeBettiNumbers(ordMatrix,minDim,1)\n",
    "\n",
    "filename = fpath_out + 'N_betti_' + dataMark + '_diffLen'\n",
    "outfile = open(filename,'wb')\n",
    "pickle.dump(N_betti_SD,outfile)\n",
    "pickle.dump(lenSet,outfile)\n",
    "outfile.close()\n",
    "\n",
    "\n",
    "\n",
    "ordMatrix = orderMatrix(-corMatr)    \n",
    "N_betti_SD = computeBettiNumbers(ordMatrix,minDim,1)\n",
    "\n",
    "filename = fpath_out + 'N_betti_' + dataMark + '_diffLen_oppositeOrder'\n",
    "outfile = open(filename,'wb')\n",
    "pickle.dump(N_betti_SD,outfile)\n",
    "pickle.dump(lenSet,outfile)\n",
    "outfile.close()"
   ]
  },
  {
   "cell_type": "code",
   "execution_count": 11,
   "metadata": {},
   "outputs": [
    {
     "name": "stderr",
     "output_type": "stream",
     "text": [
      "100%|██████████| 100/100 [00:02<00:00, 41.76it/s]\n",
      "Loading...: 100%|██████████| 100/100 [20:24<00:00, 12.24s/it]\n",
      "Loading...: 100%|██████████| 100/100 [2:21:44<00:00, 85.04s/it]  \n"
     ]
    }
   ],
   "source": [
    "corMatr = np.zeros((nTrials,nNodes,nNodes))\n",
    "with tqdm(total=nTrials) as pbar:\n",
    "    for i in range(nTrials):\n",
    "        pbar.update(1)\n",
    "        corMatr[i] = spherDistMatrix_single(nNodes, shortLength)\n",
    "\n",
    "ordMatrix = orderMatrix(corMatr)    \n",
    "N_betti_trials_SD = computeBettiNumbers(ordMatrix,minDim,maxDim)\n",
    "\n",
    "filename = fpath_out + 'N_betti_' + dataMark + '_moreTrials'\n",
    "outfile = open(filename,'wb')\n",
    "pickle.dump(N_betti_trials_SD,outfile)\n",
    "outfile.close()\n",
    "\n",
    "\n",
    "ordMatrix = orderMatrix(-corMatr)    \n",
    "N_betti_trials_SD = computeBettiNumbers(ordMatrix,minDim,maxDim)\n",
    "\n",
    "filename = fpath_out + 'N_betti_' + dataMark + '_moreTrials_oppositeOrder'\n",
    "outfile = open(filename,'wb')\n",
    "pickle.dump(N_betti_trials_SD,outfile)\n",
    "outfile.close()"
   ]
  },
  {
   "cell_type": "markdown",
   "metadata": {},
   "source": [
    "## Hyperbolic distance"
   ]
  },
  {
   "cell_type": "code",
   "execution_count": 12,
   "metadata": {},
   "outputs": [
    {
     "name": "stderr",
     "output_type": "stream",
     "text": [
      "  3%|▎         | 2/76 [00:00<00:05, 13.20it/s]"
     ]
    },
    {
     "name": "stdout",
     "output_type": "stream",
     "text": [
      "0.1\n"
     ]
    },
    {
     "name": "stderr",
     "output_type": "stream",
     "text": [
      "100%|██████████| 76/76 [00:47<00:00,  1.61it/s]\n",
      "Loading...: 100%|██████████| 76/76 [00:05<00:00, 12.71it/s]\n",
      "Loading...: 100%|██████████| 76/76 [00:06<00:00, 12.43it/s]\n",
      "  3%|▎         | 2/76 [00:00<00:05, 14.29it/s]"
     ]
    },
    {
     "name": "stdout",
     "output_type": "stream",
     "text": [
      "1.0\n"
     ]
    },
    {
     "name": "stderr",
     "output_type": "stream",
     "text": [
      "100%|██████████| 76/76 [00:45<00:00,  1.66it/s]\n",
      "Loading...: 100%|██████████| 76/76 [00:06<00:00, 12.50it/s]\n",
      "Loading...: 100%|██████████| 76/76 [00:05<00:00, 12.70it/s]\n",
      "  3%|▎         | 2/76 [00:00<00:05, 13.77it/s]"
     ]
    },
    {
     "name": "stdout",
     "output_type": "stream",
     "text": [
      "4.0\n"
     ]
    },
    {
     "name": "stderr",
     "output_type": "stream",
     "text": [
      "100%|██████████| 76/76 [00:47<00:00,  1.62it/s]\n",
      "Loading...: 100%|██████████| 76/76 [00:06<00:00, 12.38it/s]\n",
      "Loading...: 100%|██████████| 76/76 [00:06<00:00, 12.51it/s]\n",
      "  3%|▎         | 2/76 [00:00<00:05, 14.27it/s]"
     ]
    },
    {
     "name": "stdout",
     "output_type": "stream",
     "text": [
      "5.0\n"
     ]
    },
    {
     "name": "stderr",
     "output_type": "stream",
     "text": [
      "100%|██████████| 76/76 [00:46<00:00,  1.62it/s]\n",
      "Loading...: 100%|██████████| 76/76 [00:06<00:00, 12.62it/s]\n",
      "Loading...: 100%|██████████| 76/76 [00:06<00:00, 12.34it/s]\n",
      "  3%|▎         | 2/76 [00:00<00:05, 13.69it/s]"
     ]
    },
    {
     "name": "stdout",
     "output_type": "stream",
     "text": [
      "10.0\n"
     ]
    },
    {
     "name": "stderr",
     "output_type": "stream",
     "text": [
      "100%|██████████| 76/76 [00:47<00:00,  1.59it/s]\n",
      "Loading...: 100%|██████████| 76/76 [00:05<00:00, 12.75it/s]\n",
      "Loading...: 100%|██████████| 76/76 [00:06<00:00, 12.39it/s]\n"
     ]
    }
   ],
   "source": [
    "# Correct distribution, different dimensions\n",
    "dataMark = 'HD'\n",
    "\n",
    "Rset = np.array([0.1, 1, 4, 5, 10])\n",
    "\n",
    "for R in Rset:\n",
    "    print(R)\n",
    "    corMatr = np.zeros((lenSet.shape[0],nNodes,nNodes))\n",
    "    with tqdm(total=lenSet.shape[0]) as pbar:\n",
    "        for i in range(lenSet.shape[0]):\n",
    "            pbar.update(1)\n",
    "            corMatr[i] = hyperbDistMatrix_single(nNodes, lenSet[i], 'UniOnHyper', R)\n",
    "\n",
    "\n",
    "    ordMatrix = orderMatrix(corMatr)    \n",
    "    N_betti_HD = computeBettiNumbers(ordMatrix,minDim,1)\n",
    "\n",
    "    filename = fpath_out + 'N_betti_' + dataMark + '_diffLen' + '_R' + str(R)\n",
    "    outfile = open(filename,'wb')\n",
    "    pickle.dump(N_betti_HD,outfile)\n",
    "    pickle.dump(lenSet,outfile)\n",
    "    outfile.close()\n",
    "\n",
    "\n",
    "    ordMatrix = orderMatrix(-corMatr)    \n",
    "    N_betti_HD = computeBettiNumbers(ordMatrix,minDim,1)\n",
    "\n",
    "    filename = fpath_out + 'N_betti_' + dataMark + '_diffLen' + '_R' + str(R) + '_oppositeOrder'\n",
    "    outfile = open(filename,'wb')\n",
    "    pickle.dump(N_betti_HD,outfile)\n",
    "    pickle.dump(lenSet,outfile)\n",
    "    outfile.close()    "
   ]
  },
  {
   "cell_type": "code",
   "execution_count": 13,
   "metadata": {},
   "outputs": [
    {
     "name": "stderr",
     "output_type": "stream",
     "text": [
      "  2%|▏         | 2/100 [00:00<00:08, 11.63it/s]"
     ]
    },
    {
     "name": "stdout",
     "output_type": "stream",
     "text": [
      "0.1\n"
     ]
    },
    {
     "name": "stderr",
     "output_type": "stream",
     "text": [
      "100%|██████████| 100/100 [00:16<00:00,  6.04it/s]\n",
      "Loading...: 100%|██████████| 100/100 [04:34<00:00,  2.74s/it]\n",
      "Loading...: 100%|██████████| 100/100 [04:29<00:00,  2.70s/it]\n",
      "  0%|          | 0/100 [00:00<?, ?it/s]"
     ]
    },
    {
     "name": "stdout",
     "output_type": "stream",
     "text": [
      "1.0\n"
     ]
    },
    {
     "name": "stderr",
     "output_type": "stream",
     "text": [
      "100%|██████████| 100/100 [00:16<00:00,  6.02it/s]\n",
      "Loading...: 100%|██████████| 100/100 [04:25<00:00,  2.66s/it]\n",
      "Loading...: 100%|██████████| 100/100 [04:33<00:00,  2.74s/it]\n",
      "  0%|          | 0/100 [00:00<?, ?it/s]"
     ]
    },
    {
     "name": "stdout",
     "output_type": "stream",
     "text": [
      "4.0\n"
     ]
    },
    {
     "name": "stderr",
     "output_type": "stream",
     "text": [
      "100%|██████████| 100/100 [00:16<00:00,  6.00it/s]\n",
      "Loading...: 100%|██████████| 100/100 [04:30<00:00,  2.71s/it]\n",
      "Loading...: 100%|██████████| 100/100 [04:32<00:00,  2.72s/it]\n",
      "  0%|          | 0/100 [00:00<?, ?it/s]"
     ]
    },
    {
     "name": "stdout",
     "output_type": "stream",
     "text": [
      "5.0\n"
     ]
    },
    {
     "name": "stderr",
     "output_type": "stream",
     "text": [
      "100%|██████████| 100/100 [00:16<00:00,  5.94it/s]\n",
      "Loading...: 100%|██████████| 100/100 [04:34<00:00,  2.74s/it]\n",
      "Loading...: 100%|██████████| 100/100 [04:32<00:00,  2.72s/it]\n",
      "  2%|▏         | 2/100 [00:00<00:08, 11.45it/s]"
     ]
    },
    {
     "name": "stdout",
     "output_type": "stream",
     "text": [
      "10.0\n"
     ]
    },
    {
     "name": "stderr",
     "output_type": "stream",
     "text": [
      "100%|██████████| 100/100 [00:16<00:00,  5.97it/s]\n",
      "Loading...: 100%|██████████| 100/100 [04:32<00:00,  2.72s/it]\n",
      "Loading...: 100%|██████████| 100/100 [04:32<00:00,  2.73s/it]\n"
     ]
    }
   ],
   "source": [
    "for R in Rset:\n",
    "    print(R)\n",
    "\n",
    "    corMatr = np.zeros((nTrials,nNodes,nNodes))\n",
    "    with tqdm(total=nTrials) as pbar:\n",
    "        for i in range(nTrials):\n",
    "            pbar.update(1)\n",
    "            corMatr[i] = hyperbDistMatrix_single(nNodes, shortLength, 'UniOnHyper', R)\n",
    "\n",
    "    ordMatrix = orderMatrix(corMatr)    \n",
    "    N_betti_trials_HD = computeBettiNumbers(ordMatrix,minDim,maxDim)\n",
    "\n",
    "    filename = fpath_out + 'N_betti_' + dataMark + '_moreTrials' + '_R' + str(R)\n",
    "    outfile = open(filename,'wb')\n",
    "    pickle.dump(N_betti_trials_HD,outfile)\n",
    "    outfile.close()\n",
    "\n",
    "\n",
    "\n",
    "    ordMatrix = orderMatrix(-corMatr)    \n",
    "    N_betti_trials_HD = computeBettiNumbers(ordMatrix,minDim,maxDim)\n",
    "\n",
    "    filename = fpath_out + 'N_betti_' + dataMark + '_moreTrials' + '_R' + str(R) + '_oppositeOrder'\n",
    "    outfile = open(filename,'wb')\n",
    "    pickle.dump(N_betti_trials_HD,outfile)\n",
    "    outfile.close()"
   ]
  },
  {
   "cell_type": "code",
   "execution_count": 14,
   "metadata": {},
   "outputs": [
    {
     "data": {
      "image/png": "[encoded data removed]",
      "text/plain": [
       "<Figure size 1080x360 with 1 Axes>"
      ]
     },
     "metadata": {
      "needs_background": "light"
     },
     "output_type": "display_data"
    },
    {
     "name": "stdout",
     "output_type": "stream",
     "text": [
      "10.0\n"
     ]
    }
   ],
   "source": [
    "N_betti = N_betti_trials_HD\n",
    "plt.figure(figsize=(15,5))\n",
    "plt.title('Hyperbolic distribution')\n",
    "plt.plot(np.mean(N_betti['Betti0'],1))\n",
    "plt.plot(np.mean(N_betti['Betti1'],1))\n",
    "plt.show()\n",
    "\n",
    "print(np.max(N_betti['Betti1']))"
   ]
  },
  {
   "cell_type": "markdown",
   "metadata": {},
   "source": [
    "## Random graph"
   ]
  },
  {
   "cell_type": "code",
   "execution_count": 15,
   "metadata": {},
   "outputs": [
    {
     "name": "stderr",
     "output_type": "stream",
     "text": [
      "100%|██████████| 76/76 [00:00<00:00, 3258.21it/s]\n",
      "Loading...: 100%|██████████| 76/76 [00:11<00:00,  6.36it/s]\n",
      "Loading...: 100%|██████████| 76/76 [00:12<00:00,  6.25it/s]\n"
     ]
    }
   ],
   "source": [
    "dataMark = 'RG'\n",
    "corMatr = np.zeros((lenSet.shape[0],nNodes,nNodes))\n",
    "with tqdm(total=lenSet.shape[0]) as pbar:\n",
    "    for i in range(lenSet.shape[0]):\n",
    "        pbar.update(1)\n",
    "        corMatr[i] = shuffleMatrix_single(nNodes)\n",
    "\n",
    "ordMatrix = orderMatrix(corMatr)    \n",
    "N_betti_RG = computeBettiNumbers(ordMatrix,minDim,1)\n",
    "\n",
    "filename = fpath_out + 'N_betti_' + dataMark + '_diffLen'\n",
    "outfile = open(filename,'wb')\n",
    "pickle.dump(N_betti_RG,outfile)\n",
    "outfile.close()\n",
    "\n",
    "\n",
    "ordMatrix = orderMatrix(-corMatr)    \n",
    "N_betti_RG = computeBettiNumbers(ordMatrix,minDim,1)\n",
    "\n",
    "filename = fpath_out + 'N_betti_' + dataMark + '_diffLen_oppositeOrder'\n",
    "outfile = open(filename,'wb')\n",
    "pickle.dump(N_betti_RG,outfile)\n",
    "outfile.close()"
   ]
  },
  {
   "cell_type": "code",
   "execution_count": 16,
   "metadata": {},
   "outputs": [
    {
     "name": "stderr",
     "output_type": "stream",
     "text": [
      "100%|██████████| 100/100 [00:00<00:00, 3763.60it/s]\n",
      "Loading...: 100%|██████████| 100/100 [52:08<00:00, 31.28s/it]\n",
      "Loading...: 100%|██████████| 100/100 [56:14<00:00, 33.74s/it] \n"
     ]
    }
   ],
   "source": [
    "corMatr = np.zeros((nTrials,nNodes,nNodes))\n",
    "with tqdm(total=nTrials) as pbar:\n",
    "    for i in range(nTrials):\n",
    "        pbar.update(1)\n",
    "        corMatr[i] = shuffleMatrix_single(nNodes)\n",
    "\n",
    "ordMatrix = orderMatrix(corMatr)    \n",
    "N_betti_trials_RG = computeBettiNumbers(ordMatrix,minDim,maxDim)\n",
    "\n",
    "filename = fpath_out + 'N_betti_' + dataMark + '_moreTrials'\n",
    "outfile = open(filename,'wb')\n",
    "pickle.dump(N_betti_trials_RG,outfile)\n",
    "outfile.close()\n",
    "\n",
    "\n",
    "ordMatrix = orderMatrix(-corMatr)    \n",
    "N_betti_trials_RG = computeBettiNumbers(ordMatrix,minDim,maxDim)\n",
    "\n",
    "filename = fpath_out + 'N_betti_' + dataMark + '_moreTrials_oppositeOrder'\n",
    "outfile = open(filename,'wb')\n",
    "pickle.dump(N_betti_trials_RG,outfile)\n",
    "outfile.close()"
   ]
  }
 ],
 "metadata": {
  "interpreter": {
   "hash": "d17797b2132b1940379b3c930a931435bb326cb4a1b41dad3fd91f0c229a028d"
  },
  "kernelspec": {
   "display_name": "Python 3.7.6 ('base')",
   "language": "python",
   "name": "python3"
  },
  "language_info": {
   "codemirror_mode": {
    "name": "ipython",
    "version": 3
   },
   "file_extension": ".py",
   "mimetype": "text/x-python",
   "name": "python",
   "nbconvert_exporter": "python",
   "pygments_lexer": "ipython3",
   "version": "3.7.6"
  }
 },
 "nbformat": 4,
 "nbformat_minor": 4
}
