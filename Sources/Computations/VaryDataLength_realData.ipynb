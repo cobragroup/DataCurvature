{
 "cells": [
  {
   "cell_type": "code",
   "execution_count": 1,
   "metadata": {},
   "outputs": [],
   "source": [
    "%matplotlib inline\n",
    "import numpy as np\n",
    "from numpy import random\n",
    "import pandas as pd\n",
    "from scipy import stats\n",
    "import matplotlib.pyplot as plt\n",
    "\n",
    "import pickle\n",
    "\n",
    "import plotly.express as px"
   ]
  },
  {
   "cell_type": "code",
   "execution_count": 2,
   "metadata": {},
   "outputs": [],
   "source": [
    "import math\n",
    "import scipy.io as sio\n",
    "from scipy.stats import pearsonr\n",
    "from scipy.spatial import distance\n",
    "from scipy.stats import spearmanr\n",
    "\n",
    "from ripser import ripser\n",
    "from persim import plot_diagrams \n",
    "import random\n",
    "\n",
    "import seaborn as sns"
   ]
  },
  {
   "cell_type": "code",
   "execution_count": 3,
   "metadata": {},
   "outputs": [],
   "source": [
    "%run ../functions.ipynb"
   ]
  },
  {
   "cell_type": "markdown",
   "metadata": {},
   "source": [
    "## Parameters"
   ]
  },
  {
   "cell_type": "code",
   "execution_count": 5,
   "metadata": {},
   "outputs": [],
   "source": [
    "fpath_out = '../../Service/BettiCurves/'\n",
    "\n",
    "minDim = 0\n",
    "maxDim = 1\n",
    "nNodes = 90 \n",
    "nTrials = 100"
   ]
  },
  {
   "cell_type": "code",
   "execution_count": 6,
   "metadata": {},
   "outputs": [
    {
     "data": {
      "image/png": "[encoded data removed]",
      "text/plain": [
       "<Figure size 432x288 with 1 Axes>"
      ]
     },
     "metadata": {
      "needs_background": "light"
     },
     "output_type": "display_data"
    }
   ],
   "source": [
    "lenSet = np.unique(np.array(np.round(2**np.arange(2,15,1/6)),dtype=int))\n",
    "# print(lenSet)\n",
    "plt.plot(lenSet)\n",
    "plt.show()"
   ]
  },
  {
   "cell_type": "markdown",
   "metadata": {},
   "source": [
    "## Data"
   ]
  },
  {
   "cell_type": "markdown",
   "metadata": {},
   "source": [
    "### fMRI ESO"
   ]
  },
  {
   "cell_type": "code",
   "execution_count": 6,
   "metadata": {},
   "outputs": [
    {
     "name": "stdout",
     "output_type": "stream",
     "text": [
      "(400, 90, 190)\n"
     ]
    }
   ],
   "source": [
    "filename = '../../Data/boldEso190.mat'\n",
    "val = sio.loadmat(filename) # \n",
    "dataAll = np.array(val['subj_tcs'])\n",
    "dataSbj = dataAll[:,:,0].T\n",
    "\n",
    "print(dataAll.shape)"
   ]
  },
  {
   "cell_type": "code",
   "execution_count": 7,
   "metadata": {},
   "outputs": [],
   "source": [
    "dataFMRI = dataAll[:,:,0].T\n",
    "# Concatinate fMRI of Healthy Controls\n",
    "for i in range(1,90): #range(1,dataAll.shape[2]):\n",
    "    dataFMRI = np.concatenate((dataFMRI,dataAll[:,:,i].T),axis=1)\n",
    "dataFMRI = dataFMRI.T\n",
    "\n",
    "dataFMRIsz = dataAll[:,:,90].T\n",
    "# Concatinate fMRI of Schizophrenia patients\n",
    "for i in range(91,dataAll.shape[2]): \n",
    "    dataFMRIsz = np.concatenate((dataFMRIsz,dataAll[:,:,i].T),axis=1)\n",
    "dataFMRIsz = dataFMRIsz.T"
   ]
  },
  {
   "cell_type": "markdown",
   "metadata": {},
   "source": [
    "S&P500 for 2003-2013"
   ]
  },
  {
   "cell_type": "code",
   "execution_count": 7,
   "metadata": {},
   "outputs": [],
   "source": [
    "filename = '../../Data/SP500_YAHOO_mat_export_20050830-20200830.mat'"
   ]
  },
  {
   "cell_type": "code",
   "execution_count": 8,
   "metadata": {},
   "outputs": [
    {
     "data": {
      "text/plain": [
       "(3913, 90)"
      ]
     },
     "execution_count": 8,
     "metadata": {},
     "output_type": "execute_result"
    }
   ],
   "source": [
    "val = sio.loadmat(filename) # \n",
    "log_ret = np.array(val['log_ret'])\n",
    "log_ret = np.fliplr(log_ret)\n",
    "\n",
    "dataSP = log_ret[55:55+nNodes,:].T\n",
    "dataSP.shape"
   ]
  },
  {
   "cell_type": "markdown",
   "metadata": {},
   "source": [
    "Climate - 162 to 90 ROI"
   ]
  },
  {
   "cell_type": "code",
   "execution_count": 22,
   "metadata": {},
   "outputs": [],
   "source": [
    "filename = '../../Data/air.daily.mean.geodesic162.mat'\n",
    "val = sio.loadmat(filename) # \n",
    "dataClimaBig = np.array(val['anom']) # 'data'\n",
    "dataClimaBig = dataClimaBig[:,np.arange(0, 162)]\n",
    "dataClima = dataClimaBig[:,np.random.randint(0,162,nNodes)]"
   ]
  },
  {
   "cell_type": "code",
   "execution_count": 23,
   "metadata": {},
   "outputs": [
    {
     "data": {
      "text/plain": [
       "(23376, 90)"
      ]
     },
     "execution_count": 23,
     "metadata": {},
     "output_type": "execute_result"
    }
   ],
   "source": [
    "np.shape(dataClima)"
   ]
  },
  {
   "cell_type": "code",
   "execution_count": 16,
   "metadata": {},
   "outputs": [],
   "source": [
    "N_betti_real = {}"
   ]
  },
  {
   "cell_type": "markdown",
   "metadata": {},
   "source": [
    "## SP500"
   ]
  },
  {
   "cell_type": "code",
   "execution_count": 26,
   "metadata": {},
   "outputs": [
    {
     "name": "stderr",
     "output_type": "stream",
     "text": [
      " 78%|███████▊  | 59/76 [00:00<00:00, 1349.67it/s]\n",
      "Loading...: 100%|██████████| 76/76 [00:07<00:00, 10.22it/s]\n",
      "Loading...: 100%|██████████| 76/76 [00:11<00:00,  6.80it/s]\n"
     ]
    }
   ],
   "source": [
    "dataMark = 'SP500'\n",
    "data_to_test = dataSP\n",
    "\n",
    "corMatr = np.zeros((lenSet.shape[0],nNodes,nNodes))\n",
    "with tqdm(total=lenSet.shape[0]) as pbar:\n",
    "    for i in range(lenSet.shape[0]):\n",
    "        pbar.update(1)\n",
    "        if lenSet[i]>data_to_test.shape[0]:\n",
    "            break\n",
    "        else:\n",
    "            dataCurrent = data_to_test[0:lenSet[i],:]\n",
    "            corMatr[i] = connectivity(dataCurrent)\n",
    "\n",
    "ordMatrix = orderMatrix(-corMatr)\n",
    "N_betti_real[dataMark] = computeBettiNumbers(ordMatrix,minDim,maxDim)\n",
    "\n",
    "filename = fpath_out + 'N_betti_' + dataMark + '_diffLen'\n",
    "outfile = open(filename,'wb')\n",
    "pickle.dump(N_betti_real[dataMark],outfile)\n",
    "outfile.close()\n",
    "\n",
    "\n",
    "ordMatrix = orderMatrix(corMatr)\n",
    "N_betti_real[dataMark] = computeBettiNumbers(ordMatrix,minDim,maxDim)\n",
    "\n",
    "filename = fpath_out + 'N_betti_' + dataMark + '_diffLen_oppositeOrder'\n",
    "outfile = open(filename,'wb')\n",
    "pickle.dump(N_betti_real[dataMark],outfile)\n",
    "outfile.close()"
   ]
  },
  {
   "cell_type": "code",
   "execution_count": 17,
   "metadata": {},
   "outputs": [
    {
     "name": "stderr",
     "output_type": "stream",
     "text": [
      " 78%|███████▊  | 59/76 [00:00<00:00, 874.14it/s]\n",
      "Loading...: 100%|██████████| 76/76 [00:07<00:00, 10.50it/s]\n"
     ]
    }
   ],
   "source": [
    "dataMark = 'SP500_roll'\n",
    "data_to_test = np.roll(dataSP,1500)\n",
    "\n",
    "corMatr = np.zeros((lenSet.shape[0],nNodes,nNodes))\n",
    "with tqdm(total=lenSet.shape[0]) as pbar:\n",
    "    for i in range(lenSet.shape[0]):\n",
    "        pbar.update(1)\n",
    "        if lenSet[i]>data_to_test.shape[0]:\n",
    "            break\n",
    "        else:\n",
    "            dataCurrent = data_to_test[0:lenSet[i],:]\n",
    "            corMatr[i] = connectivity(dataCurrent)\n",
    "\n",
    "ordMatrix = orderMatrix(-corMatr)\n",
    "N_betti_real[dataMark] = computeBettiNumbers(ordMatrix,minDim,maxDim)\n",
    "\n",
    "filename = fpath_out + 'N_betti_' + dataMark + '_diffLen'\n",
    "outfile = open(filename,'wb')\n",
    "pickle.dump(N_betti_real[dataMark],outfile)\n",
    "outfile.close()\n",
    "\n"
   ]
  },
  {
   "cell_type": "markdown",
   "metadata": {},
   "source": [
    "## FMRI"
   ]
  },
  {
   "cell_type": "code",
   "execution_count": 10,
   "metadata": {},
   "outputs": [
    {
     "name": "stderr",
     "output_type": "stream",
     "text": [
      "100%|██████████| 76/76 [00:00<00:00, 204.69it/s]\n",
      "Loading...: 100%|██████████| 76/76 [00:10<00:00,  7.57it/s]\n",
      "Loading...: 100%|██████████| 76/76 [00:10<00:00,  7.33it/s]\n"
     ]
    }
   ],
   "source": [
    "dataMark = 'fMRI'\n",
    "data_to_test = dataFMRI\n",
    "\n",
    "corMatr = np.zeros((lenSet.shape[0],nNodes,nNodes))\n",
    "with tqdm(total=lenSet.shape[0]) as pbar:\n",
    "    for i in range(lenSet.shape[0]):\n",
    "        pbar.update(1)\n",
    "        dataCurrent = data_to_test[0:lenSet[i],:]\n",
    "        corMatr[i] = connectivity(dataCurrent)\n",
    "\n",
    "ordMatrix = orderMatrix(-corMatr)\n",
    "N_betti_real[dataMark] = computeBettiNumbers(ordMatrix,minDim,maxDim)\n",
    "\n",
    "filename = fpath_out + 'N_betti_' + dataMark + '_diffLen'\n",
    "outfile = open(filename,'wb')\n",
    "pickle.dump(N_betti_real[dataMark],outfile)\n",
    "outfile.close()\n",
    "\n",
    "\n",
    "ordMatrix = orderMatrix(corMatr)\n",
    "N_betti_real[dataMark] = computeBettiNumbers(ordMatrix,minDim,maxDim)\n",
    "\n",
    "filename = fpath_out + 'N_betti_' + dataMark + '_diffLen_oppositeOrder'\n",
    "outfile = open(filename,'wb')\n",
    "pickle.dump(N_betti_real[dataMark],outfile)\n",
    "outfile.close()"
   ]
  },
  {
   "cell_type": "code",
   "execution_count": 11,
   "metadata": {},
   "outputs": [
    {
     "name": "stderr",
     "output_type": "stream",
     "text": [
      "100%|██████████| 76/76 [00:00<00:00, 218.17it/s]\n",
      "Loading...: 100%|██████████| 76/76 [00:08<00:00,  8.75it/s]\n",
      "Loading...: 100%|██████████| 76/76 [00:11<00:00,  6.74it/s]\n"
     ]
    }
   ],
   "source": [
    "dataMark = 'fMRIsz'\n",
    "data_to_test = dataFMRIsz\n",
    "\n",
    "corMatr = np.zeros((lenSet.shape[0],nNodes,nNodes))\n",
    "with tqdm(total=lenSet.shape[0]) as pbar:\n",
    "    for i in range(lenSet.shape[0]):\n",
    "        pbar.update(1)\n",
    "        dataCurrent = data_to_test[0:lenSet[i],:]\n",
    "        corMatr[i] = connectivity(dataCurrent)\n",
    "\n",
    "ordMatrix = orderMatrix(-corMatr)\n",
    "N_betti_real[dataMark] = computeBettiNumbers(ordMatrix,minDim,maxDim)\n",
    "\n",
    "filename = fpath_out + 'N_betti_' + dataMark + '_diffLen'\n",
    "outfile = open(filename,'wb')\n",
    "pickle.dump(N_betti_real[dataMark],outfile)\n",
    "outfile.close()\n",
    "\n",
    "\n",
    "ordMatrix = orderMatrix(corMatr)\n",
    "N_betti_real[dataMark] = computeBettiNumbers(ordMatrix,minDim,maxDim)\n",
    "\n",
    "filename = fpath_out + 'N_betti_' + dataMark + '_diffLen_oppositeOrder'\n",
    "outfile = open(filename,'wb')\n",
    "pickle.dump(N_betti_real[dataMark],outfile)\n",
    "outfile.close()"
   ]
  },
  {
   "cell_type": "markdown",
   "metadata": {},
   "source": [
    "## Climate data"
   ]
  },
  {
   "cell_type": "code",
   "execution_count": 24,
   "metadata": {},
   "outputs": [
    {
     "name": "stderr",
     "output_type": "stream",
     "text": [
      "100%|██████████| 76/76 [00:00<00:00, 300.50it/s]\n",
      "Loading...: 100%|██████████| 76/76 [00:07<00:00, 10.21it/s]\n",
      "Loading...: 100%|██████████| 76/76 [00:46<00:00,  1.63it/s]\n"
     ]
    }
   ],
   "source": [
    "dataMark = 'clima'\n",
    "data_to_test = dataClima\n",
    "\n",
    "corMatr = np.zeros((lenSet.shape[0],nNodes,nNodes))\n",
    "with tqdm(total=lenSet.shape[0]) as pbar:\n",
    "    for i in range(lenSet.shape[0]):\n",
    "        pbar.update(1)\n",
    "        dataCurrent = data_to_test[0:lenSet[i],:]\n",
    "        corMatr[i] = connectivity(dataCurrent)\n",
    "\n",
    "ordMatrix = orderMatrix(-corMatr)    \n",
    "N_betti_real[dataMark] = computeBettiNumbers(ordMatrix,minDim,maxDim)\n",
    "\n",
    "filename = fpath_out + 'N_betti_' + dataMark + '_diffLen'\n",
    "outfile = open(filename,'wb')\n",
    "pickle.dump(N_betti_real[dataMark],outfile)\n",
    "outfile.close()\n",
    "\n",
    "\n",
    "ordMatrix = orderMatrix(corMatr)\n",
    "N_betti_real[dataMark] = computeBettiNumbers(ordMatrix,minDim,maxDim)\n",
    "\n",
    "filename = fpath_out + 'N_betti_' + dataMark + '_diffLen_oppositeOrder'\n",
    "outfile = open(filename,'wb')\n",
    "pickle.dump(N_betti_real[dataMark],outfile)\n",
    "outfile.close()"
   ]
  },
  {
   "cell_type": "code",
   "execution_count": null,
   "metadata": {},
   "outputs": [],
   "source": []
  }
 ],
 "metadata": {
  "interpreter": {
   "hash": "d17797b2132b1940379b3c930a931435bb326cb4a1b41dad3fd91f0c229a028d"
  },
  "kernelspec": {
   "display_name": "Python 3.7.6 ('base')",
   "language": "python",
   "name": "python3"
  },
  "language_info": {
   "codemirror_mode": {
    "name": "ipython",
    "version": 3
   },
   "file_extension": ".py",
   "mimetype": "text/x-python",
   "name": "python",
   "nbconvert_exporter": "python",
   "pygments_lexer": "ipython3",
   "version": "3.7.6"
  }
 },
 "nbformat": 4,
 "nbformat_minor": 4
}
